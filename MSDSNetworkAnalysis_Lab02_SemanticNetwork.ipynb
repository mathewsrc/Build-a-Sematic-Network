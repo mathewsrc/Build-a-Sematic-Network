{
  "nbformat": 4,
  "nbformat_minor": 0,
  "metadata": {
    "colab": {
      "provenance": [],
      "collapsed_sections": [],
      "include_colab_link": true
    },
    "kernelspec": {
      "name": "python3",
      "display_name": "Python 3"
    }
  },
  "cells": [
    {
      "cell_type": "markdown",
      "metadata": {
        "id": "view-in-github",
        "colab_type": "text"
      },
      "source": [
        "<a href=\"https://colab.research.google.com/github/punkmic/Build-a-Sematic-Network/blob/master/MSDSNetworkAnalysis_Lab02_SemanticNetwork.ipynb\" target=\"_parent\"><img src=\"https://colab.research.google.com/assets/colab-badge.svg\" alt=\"Open In Colab\"/></a>"
      ]
    },
    {
      "cell_type": "markdown",
      "source": [
        "# MSDS Network Analysis, Lab 2: Build a Semantic Network"
      ],
      "metadata": {
        "id": "ZcU5XMxHW35O"
      }
    },
    {
      "cell_type": "markdown",
      "source": [
        "## ⚡️ Make a Copy\n",
        "\n",
        "Save a copy of this notebook in your Google Drive before continuing. Be sure to edit your own copy, not the original notebook."
      ],
      "metadata": {
        "id": "l9OaEUqP43Bz"
      }
    },
    {
      "cell_type": "markdown",
      "source": [
        "## 📓 About this lab"
      ],
      "metadata": {
        "id": "gRg_nVYGXIVh"
      }
    },
    {
      "cell_type": "markdown",
      "source": [
        "In this lab, you will build a semantic network of Tweets. That is, a graph of Tweets related by natural language features of the Tweet texts.\n"
      ],
      "metadata": {
        "id": "H0FWKf20XNAT"
      }
    },
    {
      "cell_type": "markdown",
      "source": [
        "#Imports"
      ],
      "metadata": {
        "id": "3gNOVxdOLfr1"
      }
    },
    {
      "cell_type": "code",
      "metadata": {
        "id": "VEr-dIfv90fP"
      },
      "source": [
        "import gzip\n",
        "import re\n",
        "import itertools\n",
        "import json\n",
        "import networkx as nx\n",
        "import matplotlib.pyplot as plt\n",
        "import nltk\n",
        "import string"
      ],
      "execution_count": null,
      "outputs": []
    },
    {
      "cell_type": "markdown",
      "source": [
        "## Get the data"
      ],
      "metadata": {
        "id": "2qLFOpRZZjuh"
      }
    },
    {
      "cell_type": "markdown",
      "source": [
        "Be sure you still have the brand Tweets file on your Google Drive from the previous Lab."
      ],
      "metadata": {
        "id": "w1oAfXlkZeOX"
      }
    },
    {
      "cell_type": "code",
      "source": [
        "DATA_FILE = \"drive/MyDrive/nikelululemonadidas_tweets.jsonl.gz\""
      ],
      "metadata": {
        "id": "gdigBPlKTDeS"
      },
      "execution_count": null,
      "outputs": []
    },
    {
      "cell_type": "markdown",
      "source": [
        "## Mount Google Drive"
      ],
      "metadata": {
        "id": "zLsas-r3p6ws"
      }
    },
    {
      "cell_type": "code",
      "source": [
        "from google.colab import drive\n",
        "drive.mount('/content/drive')"
      ],
      "metadata": {
        "id": "EjOJUUbdp9EJ"
      },
      "execution_count": null,
      "outputs": []
    },
    {
      "cell_type": "markdown",
      "source": [
        "### About the NLTK and NLP in Python"
      ],
      "metadata": {
        "id": "TnNJ_pDUXCEq"
      }
    },
    {
      "cell_type": "markdown",
      "source": [
        "The [NLTK (Natural Language Toolkit)](https://www.nltk.org/) is an old standby for natural language processing (NLP) in the Python world.\n",
        "\n",
        "There are a good number of NLP-related Python packages, but many of them are in fact built on the NLTK, so it is worth getting some foundational exposure to that package."
      ],
      "metadata": {
        "id": "4MwcyFx7w9VW"
      }
    },
    {
      "cell_type": "markdown",
      "source": [
        "If you want to explore NLP with Python in more depth, popular libraries include [spaCy](https://spacy.io/) and [TextBlob](https://textblob.readthedocs.io/en/dev/) both of which are (like the NLTK) broadly scoped generalist NLP libraries.\n",
        "\n",
        "There are also a good number of specialized libraries for a number of tasks, including keyword extraction, fuzzy string matching, natural language data handling, the list goes on. If you have a task at hand, it's worth doing a quick search to see if the problem has already been solved."
      ],
      "metadata": {
        "id": "plWCMGaqx15Q"
      }
    },
    {
      "cell_type": "markdown",
      "source": [
        "### NLTK downloads\n",
        "\n",
        "A lot of NLTK tools fall into the category of corpus linguistics, and the algorithms for these tools often require large amounts of backing data that can unnecessarily bloat the package size if that tool is not being used.\n",
        "\n",
        "To help manage bloat, the NLTK distributes its supplemental data via a download mechanism that is used on an as-needed basis.\n",
        "\n",
        "For this assignment, you will be using the `punkt`, `stopwords` and `wordnet` datasets, which are downloaded here."
      ],
      "metadata": {
        "id": "uVBYutrh0jJd"
      }
    },
    {
      "cell_type": "code",
      "source": [
        "nltk.download(\"punkt\")"
      ],
      "metadata": {
        "id": "Q5R-OM2e5xVF"
      },
      "execution_count": null,
      "outputs": []
    },
    {
      "cell_type": "code",
      "source": [
        "nltk.download(\"stopwords\")"
      ],
      "metadata": {
        "id": "W6QKZL4OYkft"
      },
      "execution_count": null,
      "outputs": []
    },
    {
      "cell_type": "code",
      "source": [
        "nltk.download(\"wordnet\")"
      ],
      "metadata": {
        "id": "PvcS9J9Eke4K"
      },
      "execution_count": null,
      "outputs": []
    },
    {
      "cell_type": "markdown",
      "source": [
        "## Text processing functions"
      ],
      "metadata": {
        "id": "OgBGBHTBLl-j"
      }
    },
    {
      "cell_type": "markdown",
      "source": [
        "Here, we define a few functions that will be used to clean up the tweet texts. Take the time to understand what these functions are doing and how they work. You may, however, want to skim ahead to get a sense of how these functions are being used in order to better motivate your understanding."
      ],
      "metadata": {
        "id": "1xsEqtHRT8q_"
      }
    },
    {
      "cell_type": "markdown",
      "source": [
        "### Text tokenization\n",
        "\n",
        "\n"
      ],
      "metadata": {
        "id": "fcrugsS_iCwU"
      }
    },
    {
      "cell_type": "markdown",
      "source": [
        "The near-universal preliminary step to natural language processing of free-form text content is the task of tokenization.\n",
        "\n",
        "Tokenization is the task of breaking a text down into its component parts, which at the sentence level in English, we think of as words -- although tokens also include things like punctuation and sometimes special-case tokens creep in as we will see is the case for Tweets."
      ],
      "metadata": {
        "id": "-qaOWHGi3JLE"
      }
    },
    {
      "cell_type": "markdown",
      "source": [
        "#### A super-simple tokenizer"
      ],
      "metadata": {
        "id": "3Y57sZOd4Qqs"
      }
    },
    {
      "cell_type": "markdown",
      "source": [
        "Consider the following sentence (modified from the popular typing exercise in order to demonstrate some specifics)"
      ],
      "metadata": {
        "id": "k3EPQCjO4URJ"
      }
    },
    {
      "cell_type": "code",
      "source": [
        "sentence = \"The quickly browned jumping fox and the quick brown foxes jumped quickly over the lazy dogs lazily lying.\""
      ],
      "metadata": {
        "id": "m7nYRpJG3Byq"
      },
      "execution_count": null,
      "outputs": []
    },
    {
      "cell_type": "markdown",
      "source": [
        "The simplest tokenizer you could build for this is probably the split function:"
      ],
      "metadata": {
        "id": "fKifccHG4408"
      }
    },
    {
      "cell_type": "code",
      "source": [
        "sentence.split()"
      ],
      "metadata": {
        "id": "3ZiF5PVe5CvG"
      },
      "execution_count": null,
      "outputs": []
    },
    {
      "cell_type": "markdown",
      "source": [
        ".. which works quite well in the simplest cases. But real-world text tends to not fit into simple boxes. Thus, we tend to reach for pre-built tokenizers.\n",
        "\n",
        "The NLTK word tokenizer is a good example:"
      ],
      "metadata": {
        "id": "aQATD66T5HWi"
      }
    },
    {
      "cell_type": "code",
      "source": [
        "nltk.tokenize.word_tokenize(sentence)"
      ],
      "metadata": {
        "id": "ErEhJBTa5mXr"
      },
      "execution_count": null,
      "outputs": []
    },
    {
      "cell_type": "markdown",
      "source": [
        "A notable difference here is that punctuation is correctly tokenized, unlike with our simple `split` tokenizer.\n",
        "\n",
        "But consider this example Tweet:"
      ],
      "metadata": {
        "id": "EDgft4l159Vt"
      }
    },
    {
      "cell_type": "code",
      "source": [
        "example_tweet = \"hope I get a new pair of these @Nike shoes!!!! #nikelife https://www.nike.com/launch/t/womens-air-force-1-reveal-pastel-reveal\"\n",
        "nltk.tokenize.word_tokenize(example_tweet)"
      ],
      "metadata": {
        "id": "WtfKSO126hi3"
      },
      "execution_count": null,
      "outputs": []
    },
    {
      "cell_type": "markdown",
      "source": [
        "There are a few problems here, particularly the poor/improper handling of:\n",
        "\n",
        " * @mentions\n",
        " * #hashtags\n",
        " * web URLs\n",
        "\n",
        "For this reason, NLTK provides a specialized Tweet tokenizer:"
      ],
      "metadata": {
        "id": "P0mfElLs6taG"
      }
    },
    {
      "cell_type": "code",
      "source": [
        "nltk.TweetTokenizer().tokenize(example_tweet)"
      ],
      "metadata": {
        "id": "DCfwpW1WBEZa"
      },
      "execution_count": null,
      "outputs": []
    },
    {
      "cell_type": "markdown",
      "source": [
        "That's better. You will further work with the Tweet Tokenizer in Homework 1. Here, let's build a simple tokenize function that can use either the word tokenizer or the Tweet tokenizer.\n",
        "\n",
        "While we are at it, we'll normalize the text to lowercase so that we can think of, e.g. \"The\" as being the same word as \"the\"."
      ],
      "metadata": {
        "id": "5p_HPuRhBI1n"
      }
    },
    {
      "cell_type": "code",
      "source": [
        "TWEET_TOKENIZER = nltk.TweetTokenizer().tokenize\n",
        "WORD_TOKENIZER = nltk.tokenize.word_tokenize\n",
        "\n",
        "def tokenize(text, lowercase=True, tweet=False):\n",
        "    \"\"\"Tokenize the text. By default, also normalizes text to lowercase.\n",
        "    Optionally uses the Tweet Tokenizer.\n",
        "    \"\"\"\n",
        "    if lowercase:\n",
        "        text = text.lower()\n",
        "    if tweet:\n",
        "        return TWEET_TOKENIZER(text)\n",
        "    else:\n",
        "        return WORD_TOKENIZER(text)"
      ],
      "metadata": {
        "id": "pZBv5GUbiF_W"
      },
      "execution_count": null,
      "outputs": []
    },
    {
      "cell_type": "markdown",
      "source": [
        "### Functions that take tokens"
      ],
      "metadata": {
        "id": "3Sg3Z8eLih-8"
      }
    },
    {
      "cell_type": "markdown",
      "source": [
        "After tokenizing, there are often a number of other preprocessing steps involved in preparing text data for analysis. We often consider mechanisms for text normalization.\n",
        "\n",
        "We already lowercased the text for one kind of normalization. Another thing often considered are the ideas of stemming and lemmatization. These are both approaches to dealing with variations on word forms, such as pluralization, and conjugation.\n",
        "\n",
        "Take a look at the following to get a feel for the differences. In this Lab, we will use the lemmatizer which uses more natural normalized word forms."
      ],
      "metadata": {
        "id": "f0mjAeL7DaxR"
      }
    },
    {
      "cell_type": "markdown",
      "source": [
        "> ⚠️ **Caveat:** We will be using the lemmatizer in a bit of a naive way here. The WordNet lemmatizer defaults to treating words as nouns unless told otherwise. The result is that we are mainly just handling the differences in pluralization with the way we are lemmatizing. For more sophisticated lemmas, you would need to do part-of-speech tagging. You explored POS tagging in homework 2. Some extra work would be required to get the POS tags from that assignment into the form required by this lemmatizer. For purposes of this lab, we will stick with the default noun assumption.\n",
        "\n",
        "> As an example of the effects of using POS tagging, see the code snippets below. [This article at machinelearningplus.com](https://www.machinelearningplus.com/nlp/lemmatization-examples-python/) provides a good overview of some different approaches to lemmatizing, including applying parts of speech to WordNet."
      ],
      "metadata": {
        "id": "UdnfTwQLM6g3"
      }
    },
    {
      "cell_type": "markdown",
      "source": [
        "### Lemmatizing with POS\n",
        "\n",
        "The following code snippets demonstrate differences in signaling the part-of-speech to the lemmatizer. The WordNet lemmatizer defaults to treating everything as nouns, which we will simply accept as good enough for the purpose of this lab."
      ],
      "metadata": {
        "id": "xsE_gYZ_OPi5"
      }
    },
    {
      "cell_type": "code",
      "source": [],
      "metadata": {
        "id": "vQaQkwZSXS9l"
      },
      "execution_count": null,
      "outputs": []
    },
    {
      "cell_type": "code",
      "source": [
        "lemmatizer = nltk.WordNetLemmatizer()\n",
        "print(\"noun:\", lemmatizer.lemmatize(\"jumping\", \"n\"))\n",
        "print(\"verb:\", lemmatizer.lemmatize(\"jumping\", \"v\"))"
      ],
      "metadata": {
        "id": "vqq8cNsQMQUz"
      },
      "execution_count": null,
      "outputs": []
    },
    {
      "cell_type": "code",
      "source": [
        "print(\"noun:\", lemmatizer.lemmatize(\"lying\", \"n\"))\n",
        "print(\"verb:\", lemmatizer.lemmatize(\"lying\", \"v\"))"
      ],
      "metadata": {
        "id": "1BrNwHQEMyM8"
      },
      "execution_count": null,
      "outputs": []
    },
    {
      "cell_type": "code",
      "source": [
        "STEMMER = nltk.PorterStemmer()\n",
        "\n",
        "def stem(tokens):\n",
        "    \"\"\"Stem the tokens. I.e., remove morphological affixes and\n",
        "    normalize to standardized stem forms.\n",
        "\n",
        "    Has the side effective of producing \"unnatural\" forms due to\n",
        "    stemming standards. E.g. quickly becomes quickli\n",
        "    \"\"\"\n",
        "    return [ STEMMER.stem(token) for token in tokens ]"
      ],
      "metadata": {
        "id": "DWeAvcPuimE6"
      },
      "execution_count": null,
      "outputs": []
    },
    {
      "cell_type": "code",
      "source": [
        "print(stem(tokenize(sentence)))"
      ],
      "metadata": {
        "id": "XsWmDO_6Rdao"
      },
      "execution_count": null,
      "outputs": []
    },
    {
      "cell_type": "code",
      "source": [
        "LEMMATIZER = nltk.WordNetLemmatizer()\n",
        "\n",
        "def lemmatize(tokens):\n",
        "    \"\"\"Lemmatize the tokens.\n",
        "    \n",
        "    Retains more natural word forms than stemming, but assumes all\n",
        "    tokens are nouns unless tokens are passed as (word, pos) tuples.\n",
        "    \"\"\"\n",
        "    lemmas = []\n",
        "    for token in tokens:\n",
        "        if isinstance(token, str):\n",
        "            lemmas.append(LEMMATIZER.lemmatize(token)) # treats token like a noun\n",
        "        else: # assume a tuple of (word, pos)\n",
        "            lemmas.append(LEMMATIZER.lemmatize(*token))\n",
        "    return lemmas"
      ],
      "metadata": {
        "id": "t0BqdhzMjzs1"
      },
      "execution_count": null,
      "outputs": []
    },
    {
      "cell_type": "code",
      "source": [
        "lemmatize([ \"foxes\", \"jumping\"])"
      ],
      "metadata": {
        "id": "K_Vig86yPpJD"
      },
      "execution_count": null,
      "outputs": []
    },
    {
      "cell_type": "code",
      "source": [
        "lemmatize([ (\"fox\", \"n\"), (\"jumps\", \"v\") ])"
      ],
      "metadata": {
        "id": "vxnjnqUdQpuV"
      },
      "execution_count": null,
      "outputs": []
    },
    {
      "cell_type": "code",
      "source": [
        "print(lemmatize(tokenize(sentence)))"
      ],
      "metadata": {
        "id": "ijVc0LI_SSJh"
      },
      "execution_count": null,
      "outputs": []
    },
    {
      "cell_type": "markdown",
      "source": [
        "### Removing stopwords"
      ],
      "metadata": {
        "id": "0ZA7YtMFSdS7"
      }
    },
    {
      "cell_type": "markdown",
      "source": [
        "It can be useful to remove so-called stopwords to improve the average salience of the terms we are analyzing.\n",
        "\n",
        "Stop words tend to be things like articles and conjunctions that usually don't offer a lot of value in an analysis.\n",
        "\n",
        "The NLTK has a corpus of stopwords, but we'll include the option of passing in a custom list if desired."
      ],
      "metadata": {
        "id": "t2q1-yPuSiId"
      }
    },
    {
      "cell_type": "code",
      "source": [
        "def remove_stopwords(tokens, stopwords=None):\n",
        "    \"\"\"Remove stopwords, i.e. words that we don't want as part of our\n",
        "    analysis. Defaults to the default set of nltk english stopwords.\n",
        "    \"\"\"\n",
        "    if stopwords is None:\n",
        "        stopwords = nltk.corpus.stopwords.words(\"english\")\n",
        "    return [ token for token in tokens if token not in stopwords ]"
      ],
      "metadata": {
        "id": "VDCC9UN7jBkb"
      },
      "execution_count": null,
      "outputs": []
    },
    {
      "cell_type": "code",
      "source": [
        "tokens = tokenize(sentence)\n",
        "print(tokens)\n",
        "print(remove_stopwords(tokens))"
      ],
      "metadata": {
        "id": "ysK896MCTORZ"
      },
      "execution_count": null,
      "outputs": []
    },
    {
      "cell_type": "markdown",
      "source": [
        "### Removing hyperlinks"
      ],
      "metadata": {
        "id": "tPV4VnECgSYb"
      }
    },
    {
      "cell_type": "markdown",
      "source": [
        "Unless your analysis involves looking at what users are linking to (a more difficult and involved task than it might seem), then you might want to simply get those links out of the way."
      ],
      "metadata": {
        "id": "nHfyiGC_gXEH"
      }
    },
    {
      "cell_type": "code",
      "source": [
        "def remove_links(tokens):\n",
        "    \"\"\"Removes http/s links from the tokens.\n",
        "\n",
        "    This simple implementation assumes links have been kept intact as whole\n",
        "    tokens. E.g. the way the Tweet Tokenizer works.\n",
        "    \"\"\"\n",
        "    return [ t for t in tokens\n",
        "            if not t.startswith(\"http://\")\n",
        "            and not t.startswith(\"https://\")\n",
        "        ]\n"
      ],
      "metadata": {
        "id": "1TRqS0G6gwdd"
      },
      "execution_count": null,
      "outputs": []
    },
    {
      "cell_type": "code",
      "source": [
        "print(remove_links(tokenize(example_tweet, tweet=True)))"
      ],
      "metadata": {
        "id": "6wUfJBLuiBRa"
      },
      "execution_count": null,
      "outputs": []
    },
    {
      "cell_type": "markdown",
      "source": [
        "### Removing punctuation"
      ],
      "metadata": {
        "id": "odmLOVBsTjLc"
      }
    },
    {
      "cell_type": "markdown",
      "source": [
        "Finally, for our purposes of analysis, we are really only interested in words, not punctuation. Here, we simply remove tokens that are punctuation."
      ],
      "metadata": {
        "id": "y72_TvcXbUCu"
      }
    },
    {
      "cell_type": "markdown",
      "source": [
        "Tweets can get pretty messy, so we've gone beyond simply removing punctation tokens and decided to clean out punctuation altogether."
      ],
      "metadata": {
        "id": "Rn-aNiwLTnB5"
      }
    },
    {
      "cell_type": "code",
      "source": [
        "def remove_punctuation(tokens,\n",
        "                       strip_mentions=False,\n",
        "                       strip_hashtags=False,\n",
        "                       strict=False):\n",
        "    \"\"\"Remove punctuation from a list of tokens.\n",
        "\n",
        "    Has some specialized options for dealing with Tweets:\n",
        "\n",
        "    strip_mentions=True will strip the @ off of @ mentions\n",
        "    strip_hashtags=True will strip the # from hashtags\n",
        "\n",
        "    strict=True will remove all punctuation from all tokens, not merely\n",
        "    just tokens that are punctuation per se. \n",
        "    \"\"\"\n",
        "    tokens = [t for t in tokens if t not in string.punctuation]\n",
        "    if strip_mentions:\n",
        "        tokens = [t.lstrip('@') for t in tokens]\n",
        "    if strip_hashtags:\n",
        "        tokens = [t.lstrip('#') for t in tokens]\n",
        "    if strict:\n",
        "        cleaned = []\n",
        "        for t in tokens:\n",
        "            cleaned.append(\n",
        "                t.translate(str.maketrans('', '', string.punctuation)).strip())\n",
        "        tokens = [t for t in cleaned if t]\n",
        "    return tokens"
      ],
      "metadata": {
        "id": "NYj-wFTxlN-P"
      },
      "execution_count": null,
      "outputs": []
    },
    {
      "cell_type": "code",
      "source": [
        "tokens = tokenize(example_tweet, tweet=True)\n",
        "print(tokens)\n",
        "print(remove_punctuation(tokens, strip_mentions=True, strip_hashtags=True))"
      ],
      "metadata": {
        "id": "TG1xww0lezgQ"
      },
      "execution_count": null,
      "outputs": []
    },
    {
      "cell_type": "code",
      "source": [
        "simple_tokens = example_tweet.split()\n",
        "print(simple_tokens)\n",
        "print(remove_punctuation(simple_tokens, strict=True))"
      ],
      "metadata": {
        "id": "wxgNpVSIfVpc"
      },
      "execution_count": null,
      "outputs": []
    },
    {
      "cell_type": "markdown",
      "source": [
        "## Finally working with the data"
      ],
      "metadata": {
        "id": "wUz7hLKSf2eu"
      }
    },
    {
      "cell_type": "markdown",
      "source": [
        "Data cleanup is a big task and ultimately one of the bigger burdens of any analysis project. But, now that we have a good suite of utilities for handling our Tweets, the remainder of our work goes quickly."
      ],
      "metadata": {
        "id": "zMgCzDn1f5pJ"
      }
    },
    {
      "cell_type": "markdown",
      "source": [
        "The code below will do the following for each Tweet in the dataset:\n",
        "\n",
        " * Tokenize the text using the Tweet Tokenizer\n",
        " * Remove hyperlinks\n",
        " * Remove stopwords (standard English stopwords)\n",
        " * Remove punctuation tokens and strip @ and # from hashtags and mentions (see note below)\n",
        " * Lemmatize the remaining word tokens (using default noun part-of-speech for simplicity)\n",
        "\n",
        ".. and will collect the unique words and their counts into `word_counts`."
      ],
      "metadata": {
        "id": "4p63VPh6i0Z8"
      }
    },
    {
      "cell_type": "markdown",
      "source": [
        "> 💡 Since this is a semantic network we are building, it seems useful to, e.g., treat **@Nike** and **Nike** as the same word. Hence, `strip_mentions`, and `strip_hashtags`. In some cases, for example a mentions network, you would probably take a different approach. As you preprocess and prepare data for the task at hand, it is important to be intentional and aware of how you are handling the text with your end goals in mind."
      ],
      "metadata": {
        "id": "S2LfXhKnmcGM"
      }
    },
    {
      "cell_type": "code",
      "source": [
        "word_counts = {}\n",
        "\n",
        "with gzip.open(DATA_FILE) as data_file:\n",
        "    for i, line in enumerate(data_file):\n",
        "        if i % 10000 == 0:\n",
        "            print(f\"Processed {i} tweets\")\n",
        "        tweet = json.loads(line)\n",
        "        text = tweet[\"full_text\"]\n",
        "        tokens = tokenize(text, tweet=True)\n",
        "        tokens = remove_links(tokens)\n",
        "        tokens = remove_stopwords(tokens)\n",
        "        tokens = remove_punctuation(tokens, strip_mentions=True, strip_hashtags=True)\n",
        "        tokens = lemmatize(tokens) \n",
        "        for word in tokens:\n",
        "            if word not in word_counts:\n",
        "                word_counts[word] = 0\n",
        "            word_counts[word] += 1"
      ],
      "metadata": {
        "id": "mSrz-9ofjsKs"
      },
      "execution_count": null,
      "outputs": []
    },
    {
      "cell_type": "code",
      "source": [
        "len(word_counts)"
      ],
      "metadata": {
        "id": "eIOWn78gn182"
      },
      "execution_count": null,
      "outputs": []
    },
    {
      "cell_type": "markdown",
      "source": [
        "---\n",
        "\n",
        "## 🧐 Lab Quiz Question #1\n",
        "\n",
        "Precisely how many unique words are in the dataset after removing links and stopwords, and punctuation and lemmatizing the remaining tokens? Use the length of `word_counts` to determine your answer.\n",
        "\n",
        "Be sure to answer this and the remaining lab quiz questions in Lab Quiz 2.\n",
        "\n",
        "---"
      ],
      "metadata": {
        "id": "LyJnnFYRaxWM"
      }
    },
    {
      "cell_type": "markdown",
      "source": [
        "## Reducing the graph to the most common words"
      ],
      "metadata": {
        "id": "_800vRAzkdz0"
      }
    },
    {
      "cell_type": "markdown",
      "source": [
        "To keep the size of your semantic network managable, reduce the word set to just the top 1000 most popular words.\n",
        "\n",
        "To do this, you will sort the word counts by reverse value (i.e. by count from highest to lowest) and take a slice of 1000."
      ],
      "metadata": {
        "id": "eZFfT9jmkqyc"
      }
    },
    {
      "cell_type": "code",
      "source": [
        "sorted_counts = sorted(word_counts.items(), key=lambda item: item[1], reverse=True)\n",
        "sorted_words = [word for word, count in sorted_counts]"
      ],
      "metadata": {
        "id": "NXBjLQVsok7-"
      },
      "execution_count": null,
      "outputs": []
    },
    {
      "cell_type": "markdown",
      "source": [
        "Let's take a look at just a few of the top words:"
      ],
      "metadata": {
        "id": "JMh06WnHpI1I"
      }
    },
    {
      "cell_type": "code",
      "source": [
        "sorted_words[:10]"
      ],
      "metadata": {
        "id": "n0Jg27jIlSxU"
      },
      "execution_count": null,
      "outputs": []
    },
    {
      "cell_type": "markdown",
      "source": [
        "Some things to note:\n",
        "\n",
        " * There appears to be some punctuation here that made it through. We will leave it as both a thought exercise to consider why these tokens are here, and how you might clean them up.\n",
        "\n",
        " * rt is right up there near the top, which is not surprising given that these are Tweets. This is an example of something you might clean up, for example, with a specialize stopword list. This cleanup is included below as a coding exercise.\n",
        "\n",
        " * While Nike and Adidas made it to the top 10, Lululemon is not here. Why might that be? (The code snippet below sheds some light) And how would you deal with this if you wanted to include Lululemon in your analysis? (Hint: think about the segmentation work you did in the Topic Modeling course."
      ],
      "metadata": {
        "id": "2L4ZajBYpnoR"
      }
    },
    {
      "cell_type": "code",
      "source": [
        "print(\"Nike:\", word_counts[\"nike\"])\n",
        "print(\"Adidas:\", word_counts[\"adidas\"])\n",
        "print(\"Lululemon:\", word_counts[\"lululemon\"])"
      ],
      "metadata": {
        "id": "Bre18RwAoVIZ"
      },
      "execution_count": null,
      "outputs": []
    },
    {
      "cell_type": "markdown",
      "source": [
        "---\n",
        "\n",
        "## 🧐 Lab Quiz Question #2\n",
        "\n",
        "What is the most common word in the cleaned dataset? Use the sliced inspection of sorted_words above to answer the question.\n",
        "\n",
        "---"
      ],
      "metadata": {
        "id": "AfNnCGH-rOIm"
      }
    },
    {
      "cell_type": "markdown",
      "source": [
        "## 🛠 Exercise"
      ],
      "metadata": {
        "id": "arTEkZ4fsclp"
      }
    },
    {
      "cell_type": "markdown",
      "source": [
        "As mentioned above, there are a lot of \"rt\" (retweet) instances in the word set. As an exercise in developing a specialized stopword list, complete the code below to remove \"rt\" during pre-processing.\n",
        "\n",
        "The code snippet is identical to what we already did above, but this time you need to pass in a custom stop list. The custom stop list needs to include all the words that are already being stopped, plus \"rt\" as a stopword."
      ],
      "metadata": {
        "id": "FD1zG0kysjkz"
      }
    },
    {
      "cell_type": "markdown",
      "source": [
        "> ⚠️ Important: Due to the way `remove_stopwords` has been implemented, it is not sufficent to simply pass in [\"rt\"] as your stoplist. You'll want to be sure to include all the standard stopwords too!"
      ],
      "metadata": {
        "id": "etlGgZnHtFP3"
      }
    },
    {
      "cell_type": "code",
      "source": [
        "word_counts = {}\n",
        "\n",
        "stopwords = # TODO: Complete this code to include \"rt\" in the stopwords.\n",
        "            #       Your stopwords list should include all of the standard\n",
        "            #       nltk english stopwords, as well as the word \"rt\" \n",
        "\n",
        "\n",
        "with gzip.open(DATA_FILE) as data_file:\n",
        "    for i, line in enumerate(data_file):\n",
        "        if i % 10000 == 0:\n",
        "            print(f\"Processed {i} tweets\")\n",
        "        tweet = json.loads(line)\n",
        "        text = tweet[\"full_text\"]\n",
        "        tokens = tokenize(text, tweet=True)\n",
        "        tokens = remove_links(tokens)\n",
        "        tokens = remove_stopwords(tokens, stopwords=stopwords)\n",
        "        tokens = remove_punctuation(tokens, strip_mentions=True, strip_hashtags=True)\n",
        "        tokens = lemmatize(tokens) \n",
        "        for word in tokens:\n",
        "            if word not in word_counts:\n",
        "                word_counts[word] = 0\n",
        "            word_counts[word] += 1"
      ],
      "metadata": {
        "id": "nrBX_11gsbgO"
      },
      "execution_count": null,
      "outputs": []
    },
    {
      "cell_type": "code",
      "source": [
        "sorted_counts = sorted(word_counts.items(), key=lambda item: item[1], reverse=True)\n",
        "sorted_words = [word for word, count in sorted_counts]"
      ],
      "metadata": {
        "id": "C8Ie8EE9uIR8"
      },
      "execution_count": null,
      "outputs": []
    },
    {
      "cell_type": "code",
      "source": [
        "sorted_words[:10]"
      ],
      "metadata": {
        "id": "mMNcQ3Taukkv"
      },
      "execution_count": null,
      "outputs": []
    },
    {
      "cell_type": "markdown",
      "source": [
        "---\n",
        "\n",
        "## 🧐 Lab Quiz Question #3\n",
        "\n",
        "After adding \"rt\" to the stopword list, now what is the most common word in the cleaned dataset? Use the sliced inspection of sorted_words above to answer the question.\n",
        "\n",
        "💡 Hint: This is not meant to be a trick question so much as to just be sure you are following along with understanding. If you think about it, you could probably have answered this question before even implementing the code changes.\n",
        "\n",
        "---"
      ],
      "metadata": {
        "id": "CsGrKzW9vRYI"
      }
    },
    {
      "cell_type": "markdown",
      "source": [
        "## Build and plot the graph"
      ],
      "metadata": {
        "id": "fXE_X_l4wM-7"
      }
    },
    {
      "cell_type": "markdown",
      "source": [
        "You have now done all the heavy lifting required to build the semantic network.\n",
        "\n",
        "The code below builds an undirected semantic network of co-occurring words that belong to our network of top n terms. These graphs can get kind of heavy, so start with a small graph of n=20 to keep things manageable."
      ],
      "metadata": {
        "id": "BIGiHGSqwPQc"
      }
    },
    {
      "cell_type": "markdown",
      "source": [
        "To do this, we need to:\n",
        "\n",
        " * Process each tweet in the same way we did previously\n",
        " * Determine which tokens in the Tweet belong to the top N\n",
        " * Add all of the 2-combinations (ie. co-occurrences) of included terms as an edge in the graph.\n",
        "\n",
        "We use the handy [itertools module](https://docs.python.org/3/library/itertools.html) to help us get this last thing done."
      ],
      "metadata": {
        "id": "m0o3dNnnx_s4"
      }
    },
    {
      "cell_type": "code",
      "source": [
        "N = 20\n",
        "top_terms = sorted_words[:N]\n",
        "graph = nx.Graph()\n",
        "\n",
        "with gzip.open(DATA_FILE) as data_file:\n",
        "    for i, line in enumerate(data_file):\n",
        "        if i % 10000 == 0:\n",
        "            print(f\"Processed {i} tweets\")\n",
        "        tweet = json.loads(line)\n",
        "        text = tweet[\"full_text\"]\n",
        "        tokens = tokenize(text, tweet=True)\n",
        "        tokens = remove_links(tokens)\n",
        "        tokens = remove_stopwords(tokens, stopwords=stopwords)\n",
        "        tokens = remove_punctuation(tokens, strip_mentions=True, strip_hashtags=True)\n",
        "        tokens = lemmatize(tokens) \n",
        "        \n",
        "        # reduce the tweet to terms in the 1000 word network and add the\n",
        "        # term relationships to the graph\n",
        "        nodes = [t for t in tokens if t in top_terms]\n",
        "        cooccurrences = itertools.combinations(nodes, 2)\n",
        "        if i == 0:\n",
        "            print(\"Just a glimpse so you can see what the cooccurrences for a tweet look like:\")\n",
        "            cooccurrences = list(cooccurrences)\n",
        "            print(cooccurrences)\n",
        "        graph.add_edges_from(cooccurrences)"
      ],
      "metadata": {
        "id": "PZGTuFSsw0NF"
      },
      "execution_count": null,
      "outputs": []
    },
    {
      "cell_type": "code",
      "source": [
        "nx.info(graph)"
      ],
      "metadata": {
        "id": "HCORIS0yb_S5"
      },
      "execution_count": null,
      "outputs": []
    },
    {
      "cell_type": "code",
      "source": [
        "fig, ax = plt.subplots(1, 1, figsize=(300, 300))\n",
        "nx.draw_networkx(graph, ax=ax, font_color=\"#FFFFFF\", font_size=20, node_size=30000, width=4, arrowsize=100)"
      ],
      "metadata": {
        "id": "TpwhcmSL7Bsz"
      },
      "execution_count": null,
      "outputs": []
    },
    {
      "cell_type": "code",
      "source": [],
      "metadata": {
        "id": "uPGwaf6cHnTe"
      },
      "execution_count": null,
      "outputs": []
    }
  ]
}